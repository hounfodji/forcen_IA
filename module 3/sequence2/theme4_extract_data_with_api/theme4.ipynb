{
 "cells": [
  {
   "cell_type": "markdown",
   "metadata": {},
   "source": [
    "# Pulling Data from APIs in Python - A Detailed Guide"
   ]
  },
  {
   "cell_type": "markdown",
   "metadata": {},
   "source": [
    "**APIs (Application Programming Interfaces)** allow you to access data and services from other applications. Let's learn how to use Python to interact with them."
   ]
  },
  {
   "cell_type": "markdown",
   "metadata": {},
   "source": [
    "### 1. Understanding APIs"
   ]
  },
  {
   "cell_type": "markdown",
   "metadata": {},
   "source": [
    "An API is a set of rules that allows different software applications to communicate with each other. When we talk about \"pulling data from an API,\" we're typically talking about making HTTP requests to a web API that returns data in a structured format (usually JSON)."
   ]
  },
  {
   "cell_type": "markdown",
   "metadata": {},
   "source": [
    "#### installation"
   ]
  },
  {
   "cell_type": "code",
   "execution_count": null,
   "metadata": {},
   "outputs": [],
   "source": [
    "%pip install requests"
   ]
  },
  {
   "cell_type": "markdown",
   "metadata": {},
   "source": [
    "### 2. Making Your First API Request"
   ]
  },
  {
   "cell_type": "code",
   "execution_count": 15,
   "metadata": {},
   "outputs": [
    {
     "name": "stdout",
     "output_type": "stream",
     "text": [
      "API Response:\n",
      "Title: sunt aut facere repellat provident occaecati excepturi optio reprehenderit\n",
      "Body: quia et suscipit\n",
      "suscipit recusandae consequuntur expedita et cum\n",
      "reprehenderit molestiae ut ut quas totam\n",
      "nostrum rerum est autem sunt rem eveniet architecto\n"
     ]
    }
   ],
   "source": [
    "import requests\n",
    "\n",
    "# Make a GET request to a public API\n",
    "response = requests.get('https://jsonplaceholder.typicode.com/posts/1')\n",
    "# print(response.json())\n",
    "# Check if the request was successful\n",
    "if response.status_code == 200:\n",
    "    # Parse the JSON response\n",
    "    data = response.json()\n",
    "    print(\"API Response:\")\n",
    "    print(f\"Title: {data['title']}\")\n",
    "    print(f\"Body: {data['body']}\")\n",
    "else:\n",
    "    print(f\"Request failed with status code {response.status_code}\")"
   ]
  }
 ],
 "metadata": {
  "kernelspec": {
   "display_name": "formation_forcen_env",
   "language": "python",
   "name": "python3"
  },
  "language_info": {
   "codemirror_mode": {
    "name": "ipython",
    "version": 3
   },
   "file_extension": ".py",
   "mimetype": "text/x-python",
   "name": "python",
   "nbconvert_exporter": "python",
   "pygments_lexer": "ipython3",
   "version": "3.12.9"
  }
 },
 "nbformat": 4,
 "nbformat_minor": 2
}
