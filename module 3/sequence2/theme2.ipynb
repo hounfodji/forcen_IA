{
 "cells": [
  {
   "cell_type": "markdown",
   "metadata": {},
   "source": [
    "### Savoir se connecter à une base de données relationnelle"
   ]
  },
  {
   "cell_type": "markdown",
   "metadata": {},
   "source": [
    "#### PostgreSQL"
   ]
  },
  {
   "cell_type": "code",
   "execution_count": 8,
   "metadata": {},
   "outputs": [],
   "source": [
    "from dotenv import load_dotenv\n",
    "import os\n",
    "import psycopg2\n",
    "import psycopg2.extras"
   ]
  },
  {
   "cell_type": "code",
   "execution_count": 12,
   "metadata": {},
   "outputs": [
    {
     "name": "stdout",
     "output_type": "stream",
     "text": [
      "3 Tom Doe 70000 D3\n",
      "1 John Doe 70000 D1\n"
     ]
    }
   ],
   "source": [
    "load_dotenv()\n",
    "\n",
    "conn = None\n",
    "cur = None\n",
    "try:\n",
    "    conn = psycopg2.connect(\n",
    "        dbname=os.getenv('DB_NAME'),\n",
    "        user=os.getenv('DB_USER'),\n",
    "        password=os.getenv('DB_PASSWORD'),\n",
    "        host=os.getenv('DB_HOST'),\n",
    "        port=os.getenv('DB_PORT')\n",
    "    )\n",
    "    \n",
    "    cur = conn.cursor(cursor_factory=psycopg2.extras.DictCursor)\n",
    "    \n",
    "    cur.execute('DROP TABLE IF EXISTS employee')\n",
    "    \n",
    "    create_script = \"\"\" \n",
    "    CREATE TABLE IF NOT EXISTS employee (\n",
    "        id int PRIMARY KEY,\n",
    "        name VARCHAR(100) NOT NULL,\n",
    "        salary int,\n",
    "        dept_id VARCHAR(100)\n",
    "    );\n",
    "    \n",
    "    \"\"\"\n",
    "    \n",
    "    cur.execute(create_script)\n",
    "    \n",
    "    insert_script = \"INSERT INTO employee (id, name, salary, dept_id) VALUES (%s, %s, %s, %s)\"\n",
    "    insert_values = [(1, 'John Doe', 50000, 'D1'), (2, 'Jane Doe', 60000, 'D2'), (3, 'Tom Doe', 70000, 'D3')]\n",
    "    cur.executemany(insert_script, insert_values)\n",
    "    \n",
    "    update_script = \"UPDATE employee SET salary = %s WHERE id = %s\"\n",
    "    update_values = (70000, 1)\n",
    "    cur.execute(update_script, update_values)\n",
    "    \n",
    "    delete_script = \"DELETE FROM employee WHERE id = %s\"\n",
    "    delete_values = (2,)\n",
    "    cur.execute(delete_script, delete_values)\n",
    "    \n",
    "    cur.execute('SELECT * FROM employee')\n",
    "    for row in cur.fetchall():\n",
    "        print(row['id'], row['name'], row['salary'], row['dept_id'])\n",
    "        \n",
    "    \n",
    "    \n",
    "    conn.commit()\n",
    "    \n",
    "    \n",
    "except Exception as e:\n",
    "    print('Database connection failed: ', e)\n",
    "finally:\n",
    "    if cur is not None:\n",
    "        cur.close()\n",
    "    if conn is not None:\n",
    "        conn.close()\n"
   ]
  }
 ],
 "metadata": {
  "kernelspec": {
   "display_name": "formation_forcen_env",
   "language": "python",
   "name": "python3"
  },
  "language_info": {
   "codemirror_mode": {
    "name": "ipython",
    "version": 3
   },
   "file_extension": ".py",
   "mimetype": "text/x-python",
   "name": "python",
   "nbconvert_exporter": "python",
   "pygments_lexer": "ipython3",
   "version": "3.12.9"
  }
 },
 "nbformat": 4,
 "nbformat_minor": 2
}
